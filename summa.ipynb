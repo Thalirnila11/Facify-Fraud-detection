{
 "cells": [
  {
   "cell_type": "code",
   "execution_count": 1,
   "metadata": {},
   "outputs": [
    {
     "ename": "KeyboardInterrupt",
     "evalue": "",
     "output_type": "error",
     "traceback": [
      "\u001b[1;31m---------------------------------------------------------------------------\u001b[0m",
      "\u001b[1;31mKeyboardInterrupt\u001b[0m                         Traceback (most recent call last)",
      "\u001b[1;32md:\\PROJECTS\\Facenet_Tensorflow-main\\Facenet_Tensorflow-main\\summa.ipynb Cell 1\u001b[0m in \u001b[0;36m<cell line: 2>\u001b[1;34m()\u001b[0m\n\u001b[0;32m      <a href='vscode-notebook-cell:/d%3A/PROJECTS/Facenet_Tensorflow-main/Facenet_Tensorflow-main/summa.ipynb#W0sZmlsZQ%3D%3D?line=0'>1</a>\u001b[0m \u001b[39mfrom\u001b[39;00m \u001b[39mkeras_facenet\u001b[39;00m \u001b[39mimport\u001b[39;00m FaceNet\n\u001b[1;32m----> <a href='vscode-notebook-cell:/d%3A/PROJECTS/Facenet_Tensorflow-main/Facenet_Tensorflow-main/summa.ipynb#W0sZmlsZQ%3D%3D?line=1'>2</a>\u001b[0m model \u001b[39m=\u001b[39m FaceNet()\n\u001b[0;32m      <a href='vscode-notebook-cell:/d%3A/PROJECTS/Facenet_Tensorflow-main/Facenet_Tensorflow-main/summa.ipynb#W0sZmlsZQ%3D%3D?line=2'>3</a>\u001b[0m \u001b[39mprint\u001b[39m(model\u001b[39m.\u001b[39minputs)\n\u001b[0;32m      <a href='vscode-notebook-cell:/d%3A/PROJECTS/Facenet_Tensorflow-main/Facenet_Tensorflow-main/summa.ipynb#W0sZmlsZQ%3D%3D?line=3'>4</a>\u001b[0m \u001b[39mprint\u001b[39m(model\u001b[39m.\u001b[39moutputs)\n",
      "File \u001b[1;32m~\\AppData\\Roaming\\Python\\Python310\\site-packages\\keras_facenet\\__init__.py:45\u001b[0m, in \u001b[0;36mFaceNet.__init__\u001b[1;34m(self, key, use_prebuilt, cache_folder)\u001b[0m\n\u001b[0;32m     43\u001b[0m \u001b[39melse\u001b[39;00m:\n\u001b[0;32m     44\u001b[0m     builder \u001b[39m=\u001b[39m embedding_model\u001b[39m.\u001b[39mget_keras_model_from_tensorflow\n\u001b[1;32m---> 45\u001b[0m \u001b[39mself\u001b[39m\u001b[39m.\u001b[39mmodel \u001b[39m=\u001b[39m builder(\u001b[39mself\u001b[39;49m\u001b[39m.\u001b[39;49mmetadata, \u001b[39mself\u001b[39;49m\u001b[39m.\u001b[39;49mcache_folder)\n",
      "File \u001b[1;32m~\\AppData\\Roaming\\Python\\Python310\\site-packages\\keras_facenet\\embedding_model.py:128\u001b[0m, in \u001b[0;36mget_keras_model_from_prebuilt\u001b[1;34m(metadata, cache_folder)\u001b[0m\n\u001b[0;32m    122\u001b[0m log\u001b[39m.\u001b[39minfo(\u001b[39m'\u001b[39m\u001b[39mLoading weights.\u001b[39m\u001b[39m'\u001b[39m)\n\u001b[0;32m    123\u001b[0m weights_filepath \u001b[39m=\u001b[39m os\u001b[39m.\u001b[39mpath\u001b[39m.\u001b[39mjoin(\n\u001b[0;32m    124\u001b[0m     cache_folder,\n\u001b[0;32m    125\u001b[0m     metadata[\u001b[39m'\u001b[39m\u001b[39mdir_name\u001b[39m\u001b[39m'\u001b[39m],\n\u001b[0;32m    126\u001b[0m     metadata[\u001b[39m'\u001b[39m\u001b[39mkeras_weights_filename\u001b[39m\u001b[39m'\u001b[39m]\n\u001b[0;32m    127\u001b[0m )\n\u001b[1;32m--> 128\u001b[0m download_and_verify(\n\u001b[0;32m    129\u001b[0m     url\u001b[39m=\u001b[39;49mmetadata[\u001b[39m'\u001b[39;49m\u001b[39mkeras_weights_url\u001b[39;49m\u001b[39m'\u001b[39;49m],\n\u001b[0;32m    130\u001b[0m     filepath\u001b[39m=\u001b[39;49mweights_filepath,\n\u001b[0;32m    131\u001b[0m     sha256\u001b[39m=\u001b[39;49mmetadata[\u001b[39m'\u001b[39;49m\u001b[39mkeras_weights_sha256\u001b[39;49m\u001b[39m'\u001b[39;49m]\n\u001b[0;32m    132\u001b[0m )\n\u001b[0;32m    133\u001b[0m model \u001b[39m=\u001b[39m InceptionResNetV1(\n\u001b[0;32m    134\u001b[0m     input_shape\u001b[39m=\u001b[39m(\u001b[39mNone\u001b[39;00m, \u001b[39mNone\u001b[39;00m, \u001b[39m3\u001b[39m),\n\u001b[0;32m    135\u001b[0m     classes\u001b[39m=\u001b[39mmetadata[\u001b[39m'\u001b[39m\u001b[39mdimensions\u001b[39m\u001b[39m'\u001b[39m]\n\u001b[0;32m    136\u001b[0m )\n\u001b[0;32m    137\u001b[0m model\u001b[39m.\u001b[39mload_weights(weights_filepath)\n",
      "File \u001b[1;32m~\\AppData\\Roaming\\Python\\Python310\\site-packages\\keras_facenet\\utils.py:18\u001b[0m, in \u001b[0;36mdownload_and_verify\u001b[1;34m(url, filepath, sha256)\u001b[0m\n\u001b[0;32m     15\u001b[0m \u001b[39mif\u001b[39;00m \u001b[39mnot\u001b[39;00m os\u001b[39m.\u001b[39mpath\u001b[39m.\u001b[39misfile(filepath) \u001b[39mor\u001b[39;00m (sha256\n\u001b[0;32m     16\u001b[0m                                     \u001b[39mand\u001b[39;00m sha256sum(filepath) \u001b[39m!=\u001b[39m sha256):\n\u001b[0;32m     17\u001b[0m     log\u001b[39m.\u001b[39minfo(\u001b[39m'\u001b[39m\u001b[39mDownloading \u001b[39m\u001b[39m'\u001b[39m \u001b[39m+\u001b[39m filepath)\n\u001b[1;32m---> 18\u001b[0m     urllib\u001b[39m.\u001b[39;49mrequest\u001b[39m.\u001b[39;49murlretrieve(url, filepath)\n\u001b[0;32m     19\u001b[0m \u001b[39massert\u001b[39;00m sha256 \u001b[39m==\u001b[39m sha256sum(filepath), \u001b[39m'\u001b[39m\u001b[39mError occurred verifying sha256.\u001b[39m\u001b[39m'\u001b[39m\n",
      "File \u001b[1;32mc:\\Program Files\\Python310\\lib\\urllib\\request.py:270\u001b[0m, in \u001b[0;36murlretrieve\u001b[1;34m(url, filename, reporthook, data)\u001b[0m\n\u001b[0;32m    267\u001b[0m     reporthook(blocknum, bs, size)\n\u001b[0;32m    269\u001b[0m \u001b[39mwhile\u001b[39;00m \u001b[39mTrue\u001b[39;00m:\n\u001b[1;32m--> 270\u001b[0m     block \u001b[39m=\u001b[39m fp\u001b[39m.\u001b[39;49mread(bs)\n\u001b[0;32m    271\u001b[0m     \u001b[39mif\u001b[39;00m \u001b[39mnot\u001b[39;00m block:\n\u001b[0;32m    272\u001b[0m         \u001b[39mbreak\u001b[39;00m\n",
      "File \u001b[1;32mc:\\Program Files\\Python310\\lib\\http\\client.py:465\u001b[0m, in \u001b[0;36mHTTPResponse.read\u001b[1;34m(self, amt)\u001b[0m\n\u001b[0;32m    462\u001b[0m \u001b[39mif\u001b[39;00m \u001b[39mself\u001b[39m\u001b[39m.\u001b[39mlength \u001b[39mis\u001b[39;00m \u001b[39mnot\u001b[39;00m \u001b[39mNone\u001b[39;00m \u001b[39mand\u001b[39;00m amt \u001b[39m>\u001b[39m \u001b[39mself\u001b[39m\u001b[39m.\u001b[39mlength:\n\u001b[0;32m    463\u001b[0m     \u001b[39m# clip the read to the \"end of response\"\u001b[39;00m\n\u001b[0;32m    464\u001b[0m     amt \u001b[39m=\u001b[39m \u001b[39mself\u001b[39m\u001b[39m.\u001b[39mlength\n\u001b[1;32m--> 465\u001b[0m s \u001b[39m=\u001b[39m \u001b[39mself\u001b[39;49m\u001b[39m.\u001b[39;49mfp\u001b[39m.\u001b[39;49mread(amt)\n\u001b[0;32m    466\u001b[0m \u001b[39mif\u001b[39;00m \u001b[39mnot\u001b[39;00m s \u001b[39mand\u001b[39;00m amt:\n\u001b[0;32m    467\u001b[0m     \u001b[39m# Ideally, we would raise IncompleteRead if the content-length\u001b[39;00m\n\u001b[0;32m    468\u001b[0m     \u001b[39m# wasn't satisfied, but it might break compatibility.\u001b[39;00m\n\u001b[0;32m    469\u001b[0m     \u001b[39mself\u001b[39m\u001b[39m.\u001b[39m_close_conn()\n",
      "File \u001b[1;32mc:\\Program Files\\Python310\\lib\\socket.py:705\u001b[0m, in \u001b[0;36mSocketIO.readinto\u001b[1;34m(self, b)\u001b[0m\n\u001b[0;32m    703\u001b[0m \u001b[39mwhile\u001b[39;00m \u001b[39mTrue\u001b[39;00m:\n\u001b[0;32m    704\u001b[0m     \u001b[39mtry\u001b[39;00m:\n\u001b[1;32m--> 705\u001b[0m         \u001b[39mreturn\u001b[39;00m \u001b[39mself\u001b[39;49m\u001b[39m.\u001b[39;49m_sock\u001b[39m.\u001b[39;49mrecv_into(b)\n\u001b[0;32m    706\u001b[0m     \u001b[39mexcept\u001b[39;00m timeout:\n\u001b[0;32m    707\u001b[0m         \u001b[39mself\u001b[39m\u001b[39m.\u001b[39m_timeout_occurred \u001b[39m=\u001b[39m \u001b[39mTrue\u001b[39;00m\n",
      "File \u001b[1;32mc:\\Program Files\\Python310\\lib\\ssl.py:1274\u001b[0m, in \u001b[0;36mSSLSocket.recv_into\u001b[1;34m(self, buffer, nbytes, flags)\u001b[0m\n\u001b[0;32m   1270\u001b[0m     \u001b[39mif\u001b[39;00m flags \u001b[39m!=\u001b[39m \u001b[39m0\u001b[39m:\n\u001b[0;32m   1271\u001b[0m         \u001b[39mraise\u001b[39;00m \u001b[39mValueError\u001b[39;00m(\n\u001b[0;32m   1272\u001b[0m           \u001b[39m\"\u001b[39m\u001b[39mnon-zero flags not allowed in calls to recv_into() on \u001b[39m\u001b[39m%s\u001b[39;00m\u001b[39m\"\u001b[39m \u001b[39m%\u001b[39m\n\u001b[0;32m   1273\u001b[0m           \u001b[39mself\u001b[39m\u001b[39m.\u001b[39m\u001b[39m__class__\u001b[39m)\n\u001b[1;32m-> 1274\u001b[0m     \u001b[39mreturn\u001b[39;00m \u001b[39mself\u001b[39;49m\u001b[39m.\u001b[39;49mread(nbytes, buffer)\n\u001b[0;32m   1275\u001b[0m \u001b[39melse\u001b[39;00m:\n\u001b[0;32m   1276\u001b[0m     \u001b[39mreturn\u001b[39;00m \u001b[39msuper\u001b[39m()\u001b[39m.\u001b[39mrecv_into(buffer, nbytes, flags)\n",
      "File \u001b[1;32mc:\\Program Files\\Python310\\lib\\ssl.py:1130\u001b[0m, in \u001b[0;36mSSLSocket.read\u001b[1;34m(self, len, buffer)\u001b[0m\n\u001b[0;32m   1128\u001b[0m \u001b[39mtry\u001b[39;00m:\n\u001b[0;32m   1129\u001b[0m     \u001b[39mif\u001b[39;00m buffer \u001b[39mis\u001b[39;00m \u001b[39mnot\u001b[39;00m \u001b[39mNone\u001b[39;00m:\n\u001b[1;32m-> 1130\u001b[0m         \u001b[39mreturn\u001b[39;00m \u001b[39mself\u001b[39;49m\u001b[39m.\u001b[39;49m_sslobj\u001b[39m.\u001b[39;49mread(\u001b[39mlen\u001b[39;49m, buffer)\n\u001b[0;32m   1131\u001b[0m     \u001b[39melse\u001b[39;00m:\n\u001b[0;32m   1132\u001b[0m         \u001b[39mreturn\u001b[39;00m \u001b[39mself\u001b[39m\u001b[39m.\u001b[39m_sslobj\u001b[39m.\u001b[39mread(\u001b[39mlen\u001b[39m)\n",
      "\u001b[1;31mKeyboardInterrupt\u001b[0m: "
     ]
    }
   ],
   "source": [
    "from keras_facenet import FaceNet\n",
    "model = FaceNet()\n",
    "print(model.inputs)\n",
    "print(model.outputs)"
   ]
  },
  {
   "cell_type": "code",
   "execution_count": 3,
   "metadata": {},
   "outputs": [
    {
     "ename": "ValueError",
     "evalue": "in user code:\n\n    File \"C:\\Users\\hp\\AppData\\Roaming\\Python\\Python310\\site-packages\\keras\\engine\\training.py\", line 2169, in predict_function  *\n        return step_function(self, iterator)\n    File \"C:\\Users\\hp\\AppData\\Roaming\\Python\\Python310\\site-packages\\keras\\engine\\training.py\", line 2155, in step_function  **\n        outputs = model.distribute_strategy.run(run_step, args=(data,))\n    File \"C:\\Users\\hp\\AppData\\Roaming\\Python\\Python310\\site-packages\\keras\\engine\\training.py\", line 2143, in run_step  **\n        outputs = model.predict_step(data)\n    File \"C:\\Users\\hp\\AppData\\Roaming\\Python\\Python310\\site-packages\\keras\\engine\\training.py\", line 2111, in predict_step\n        return self(x, training=False)\n    File \"C:\\Users\\hp\\AppData\\Roaming\\Python\\Python310\\site-packages\\keras\\utils\\traceback_utils.py\", line 70, in error_handler\n        raise e.with_traceback(filtered_tb) from None\n    File \"C:\\Users\\hp\\AppData\\Roaming\\Python\\Python310\\site-packages\\keras\\engine\\input_spec.py\", line 253, in assert_input_compatibility\n        raise ValueError(\n\n    ValueError: Exception encountered when calling layer 'inception_resnet_v1' (type Functional).\n    \n    Input 0 of layer \"Conv2d_1a_3x3\" is incompatible with the layer: expected min_ndim=4, found ndim=3. Full shape received: (None, 160, 160)\n    \n    Call arguments received by layer 'inception_resnet_v1' (type Functional):\n      • inputs=tf.Tensor(shape=(None, 160, 160), dtype=float32)\n      • training=False\n      • mask=None\n",
     "output_type": "error",
     "traceback": [
      "\u001b[1;31m---------------------------------------------------------------------------\u001b[0m",
      "\u001b[1;31mValueError\u001b[0m                                Traceback (most recent call last)",
      "\u001b[1;32md:\\PROJECTS\\Facenet_Tensorflow-main\\Facenet_Tensorflow-main\\summa.ipynb Cell 2\u001b[0m in \u001b[0;36m<cell line: 18>\u001b[1;34m()\u001b[0m\n\u001b[0;32m     <a href='vscode-notebook-cell:/d%3A/PROJECTS/Facenet_Tensorflow-main/Facenet_Tensorflow-main/summa.ipynb#W1sZmlsZQ%3D%3D?line=14'>15</a>\u001b[0m image2 \u001b[39m=\u001b[39m np\u001b[39m.\u001b[39marray(image2)\n\u001b[0;32m     <a href='vscode-notebook-cell:/d%3A/PROJECTS/Facenet_Tensorflow-main/Facenet_Tensorflow-main/summa.ipynb#W1sZmlsZQ%3D%3D?line=16'>17</a>\u001b[0m \u001b[39m# Extract the face embeddings from the images\u001b[39;00m\n\u001b[1;32m---> <a href='vscode-notebook-cell:/d%3A/PROJECTS/Facenet_Tensorflow-main/Facenet_Tensorflow-main/summa.ipynb#W1sZmlsZQ%3D%3D?line=17'>18</a>\u001b[0m face_embedding1 \u001b[39m=\u001b[39m facenet_model\u001b[39m.\u001b[39;49membeddings(image1)[\u001b[39m0\u001b[39m]\n\u001b[0;32m     <a href='vscode-notebook-cell:/d%3A/PROJECTS/Facenet_Tensorflow-main/Facenet_Tensorflow-main/summa.ipynb#W1sZmlsZQ%3D%3D?line=18'>19</a>\u001b[0m face_embedding2 \u001b[39m=\u001b[39m facenet_model\u001b[39m.\u001b[39membeddings(image2)[\u001b[39m0\u001b[39m]\n\u001b[0;32m     <a href='vscode-notebook-cell:/d%3A/PROJECTS/Facenet_Tensorflow-main/Facenet_Tensorflow-main/summa.ipynb#W1sZmlsZQ%3D%3D?line=20'>21</a>\u001b[0m \u001b[39m# Calculate the distance between the two face embeddings\u001b[39;00m\n",
      "File \u001b[1;32m~\\AppData\\Roaming\\Python\\Python310\\site-packages\\keras_facenet\\__init__.py:113\u001b[0m, in \u001b[0;36mFaceNet.embeddings\u001b[1;34m(self, images)\u001b[0m\n\u001b[0;32m    111\u001b[0m images \u001b[39m=\u001b[39m [cv2\u001b[39m.\u001b[39mresize(image, (s, s)) \u001b[39mfor\u001b[39;00m image \u001b[39min\u001b[39;00m images]\n\u001b[0;32m    112\u001b[0m X \u001b[39m=\u001b[39m np\u001b[39m.\u001b[39mfloat32([\u001b[39mself\u001b[39m\u001b[39m.\u001b[39m_normalize(image) \u001b[39mfor\u001b[39;00m image \u001b[39min\u001b[39;00m images])\n\u001b[1;32m--> 113\u001b[0m embeddings \u001b[39m=\u001b[39m \u001b[39mself\u001b[39;49m\u001b[39m.\u001b[39;49mmodel\u001b[39m.\u001b[39;49mpredict(X)\n\u001b[0;32m    114\u001b[0m \u001b[39mreturn\u001b[39;00m embeddings\n",
      "File \u001b[1;32m~\\AppData\\Roaming\\Python\\Python310\\site-packages\\keras\\utils\\traceback_utils.py:70\u001b[0m, in \u001b[0;36mfilter_traceback.<locals>.error_handler\u001b[1;34m(*args, **kwargs)\u001b[0m\n\u001b[0;32m     67\u001b[0m     filtered_tb \u001b[39m=\u001b[39m _process_traceback_frames(e\u001b[39m.\u001b[39m__traceback__)\n\u001b[0;32m     68\u001b[0m     \u001b[39m# To get the full stack trace, call:\u001b[39;00m\n\u001b[0;32m     69\u001b[0m     \u001b[39m# `tf.debugging.disable_traceback_filtering()`\u001b[39;00m\n\u001b[1;32m---> 70\u001b[0m     \u001b[39mraise\u001b[39;00m e\u001b[39m.\u001b[39mwith_traceback(filtered_tb) \u001b[39mfrom\u001b[39;00m \u001b[39mNone\u001b[39m\n\u001b[0;32m     71\u001b[0m \u001b[39mfinally\u001b[39;00m:\n\u001b[0;32m     72\u001b[0m     \u001b[39mdel\u001b[39;00m filtered_tb\n",
      "File \u001b[1;32m~\\AppData\\Local\\Temp\\__autograph_generated_filejk42fner.py:15\u001b[0m, in \u001b[0;36mouter_factory.<locals>.inner_factory.<locals>.tf__predict_function\u001b[1;34m(iterator)\u001b[0m\n\u001b[0;32m     13\u001b[0m \u001b[39mtry\u001b[39;00m:\n\u001b[0;32m     14\u001b[0m     do_return \u001b[39m=\u001b[39m \u001b[39mTrue\u001b[39;00m\n\u001b[1;32m---> 15\u001b[0m     retval_ \u001b[39m=\u001b[39m ag__\u001b[39m.\u001b[39mconverted_call(ag__\u001b[39m.\u001b[39mld(step_function), (ag__\u001b[39m.\u001b[39mld(\u001b[39mself\u001b[39m), ag__\u001b[39m.\u001b[39mld(iterator)), \u001b[39mNone\u001b[39;00m, fscope)\n\u001b[0;32m     16\u001b[0m \u001b[39mexcept\u001b[39;00m:\n\u001b[0;32m     17\u001b[0m     do_return \u001b[39m=\u001b[39m \u001b[39mFalse\u001b[39;00m\n",
      "\u001b[1;31mValueError\u001b[0m: in user code:\n\n    File \"C:\\Users\\hp\\AppData\\Roaming\\Python\\Python310\\site-packages\\keras\\engine\\training.py\", line 2169, in predict_function  *\n        return step_function(self, iterator)\n    File \"C:\\Users\\hp\\AppData\\Roaming\\Python\\Python310\\site-packages\\keras\\engine\\training.py\", line 2155, in step_function  **\n        outputs = model.distribute_strategy.run(run_step, args=(data,))\n    File \"C:\\Users\\hp\\AppData\\Roaming\\Python\\Python310\\site-packages\\keras\\engine\\training.py\", line 2143, in run_step  **\n        outputs = model.predict_step(data)\n    File \"C:\\Users\\hp\\AppData\\Roaming\\Python\\Python310\\site-packages\\keras\\engine\\training.py\", line 2111, in predict_step\n        return self(x, training=False)\n    File \"C:\\Users\\hp\\AppData\\Roaming\\Python\\Python310\\site-packages\\keras\\utils\\traceback_utils.py\", line 70, in error_handler\n        raise e.with_traceback(filtered_tb) from None\n    File \"C:\\Users\\hp\\AppData\\Roaming\\Python\\Python310\\site-packages\\keras\\engine\\input_spec.py\", line 253, in assert_input_compatibility\n        raise ValueError(\n\n    ValueError: Exception encountered when calling layer 'inception_resnet_v1' (type Functional).\n    \n    Input 0 of layer \"Conv2d_1a_3x3\" is incompatible with the layer: expected min_ndim=4, found ndim=3. Full shape received: (None, 160, 160)\n    \n    Call arguments received by layer 'inception_resnet_v1' (type Functional):\n      • inputs=tf.Tensor(shape=(None, 160, 160), dtype=float32)\n      • training=False\n      • mask=None\n"
     ]
    }
   ],
   "source": [
    "import tensorflow as tf\n",
    "import numpy as np\n",
    "from keras_facenet import FaceNet\n",
    "import cv2\n",
    "\n",
    "# Load the FaceNet model\n",
    "facenet_model = FaceNet()\n",
    "\n",
    "# Load the images of the two faces to be verified\n",
    "image1 = cv2.imread(r'D:\\PROJECTS\\Facenet_Tensorflow-main\\Facenet_Tensorflow-main\\aligned_img\\Preetha\\WIN_20230525_14_33_05_Pro.png')\n",
    "image2 = cv2.imread(r'D:\\PROJECTS\\Facenet_Tensorflow-main\\Facenet_Tensorflow-main\\aligned_img\\Preetha\\WIN_20230525_14_33_01_Pro (4).png')\n",
    "\n",
    "# Convert the images to NumPy arrays\n",
    "image1 = np.array(image1)\n",
    "image2 = np.array(image2)\n",
    "\n",
    "# Extract the face embeddings from the images\n",
    "face_embedding1 = facenet_model.embeddings(image1)[0]\n",
    "face_embedding2 = facenet_model.embeddings(image2)[0]\n",
    "\n",
    "# Calculate the distance between the two face embeddings\n",
    "distance = np.linalg.norm(face_embedding1 - face_embedding2)\n",
    "\n",
    "# If the distance is less than a threshold, then the two faces are verified\n",
    "if distance < 0.5:\n",
    "    print('The two faces are verified.')\n",
    "else:\n",
    "    print('The two faces are not verified.')\n"
   ]
  },
  {
   "cell_type": "code",
   "execution_count": 4,
   "metadata": {},
   "outputs": [],
   "source": [
    "from PIL import Image, ImageEnhance\n",
    "\n",
    "# Open the image\n",
    "image = Image.open(r'D:\\Learning\\Face_verification\\head-position_estimation\\WIN_20230603_14_23_48_Pro.jpg')\n",
    "\n",
    "# Increase the brightness\n",
    "enhancer = ImageEnhance.Brightness(image)\n",
    "brightened_image = enhancer.enhance(1.5)  # Increase the value as desired (1.0 is the original brightness)\n",
    "\n",
    "# Save the brightened image\n",
    "brightened_image.save(\"brightened_image.jpg\")\n",
    "\n",
    "\n",
    "# Open the image\n",
    "image = Image.open(r'D:\\Learning\\Face_verification\\head-position_estimation\\WIN_20230603_14_23_48_Pro.jpg')\n",
    "\n",
    "# Increase the brightness\n",
    "enhancer = ImageEnhance.Brightness(image)\n",
    "brightened_image = enhancer.enhance(1.5)  # Increase the value as desired (1.0 is the original brightness)\n",
    "\n",
    "# Save the brightened image\n",
    "brightened_image.save(\"brightened_image.jpg\")\n"
   ]
  },
  {
   "cell_type": "code",
   "execution_count": 11,
   "metadata": {},
   "outputs": [
    {
     "data": {
      "text/plain": [
       "True"
      ]
     },
     "execution_count": 11,
     "metadata": {},
     "output_type": "execute_result"
    }
   ],
   "source": [
    "import cv2\n",
    "import numpy as np\n",
    "\n",
    "# Load the image\n",
    "image = cv2.imread(r'D:\\Learning\\Face_verification\\head-position_estimation\\WIN_20230603_14_23_48_Pro.jpg')\n",
    "\n",
    "# Increase the brightness\n",
    "brightness_factor = 5  # Increase the value as desired (1.0 is the original brightness)\n",
    "brightened_image = np.clip(image * brightness_factor, 0, 255).astype(np.uint8)\n",
    "\n",
    "# Display the brightened image\n",
    "cv2.imshow(\"Brightened Image\", brightened_image)\n",
    "cv2.waitKey(0)\n",
    "cv2.destroyAllWindows()\n",
    "\n",
    "# Save the brightened image\n",
    "cv2.imwrite(\"brightened_image_cv2.jpg\", brightened_image)\n"
   ]
  },
  {
   "cell_type": "code",
   "execution_count": 6,
   "metadata": {},
   "outputs": [],
   "source": [
    "import cv2\n",
    "import numpy as np\n",
    "import os\n",
    "\n",
    "def histogram_equalization(image):\n",
    "    # Convert image to grayscale\n",
    "    gray = cv2.cvtColor(image, cv2.COLOR_BGR2GRAY)\n",
    "    \n",
    "    # Perform histogram equalization\n",
    "    equalized = cv2.equalizeHist(gray)\n",
    "    \n",
    "    # Convert back to BGR color space\n",
    "    equalized_image = cv2.cvtColor(equalized, cv2.COLOR_GRAY2BGR)\n",
    "    \n",
    "    return equalized_image\n",
    "\n",
    "# Path to the folder containing the images\n",
    "folder_path = r'D:\\Learning\\Face_verification\\head-position_estimation\\train_img\\rahul'\n",
    "\n",
    "# Get a list of all files in the folder\n",
    "files = os.listdir(folder_path)\n",
    "\n",
    "# Iterate over each file in the folder\n",
    "for file in files:\n",
    "    # Read the image\n",
    "    image_path = os.path.join(folder_path, file)\n",
    "    input_image = cv2.imread(image_path)\n",
    "    \n",
    "    # Apply histogram equalization\n",
    "    output_image = histogram_equalization(input_image)\n",
    "    \n",
    "    # Save the equalized image with the same filename\n",
    "    cv2.imwrite(image_path, output_image)\n",
    "    \n",
    "cv2.destroyAllWindows()\n"
   ]
  },
  {
   "cell_type": "code",
   "execution_count": 2,
   "metadata": {},
   "outputs": [
    {
     "name": "stdout",
     "output_type": "stream",
     "text": [
      "Directory './align_img' and its contents successfully removed.\n"
     ]
    }
   ],
   "source": [
    "import shutil\n",
    "\n",
    "directory_path= './align_img'\n",
    "\n",
    "try:\n",
    "    shutil.rmtree(directory_path)\n",
    "    print(f\"Directory '{directory_path}' and its contents successfully removed.\")\n",
    "except OSError as e:\n",
    "    print(f\"Error: {e.strerror}\")\n"
   ]
  },
  {
   "cell_type": "code",
   "execution_count": 4,
   "metadata": {},
   "outputs": [
    {
     "name": "stdout",
     "output_type": "stream",
     "text": [
      "Number of files in the folder: 625\n"
     ]
    }
   ],
   "source": [
    "import os\n",
    "\n",
    "def count_files(folder_path):\n",
    "    # Get a list of all files in the folder\n",
    "    files = os.listdir(folder_path)\n",
    "\n",
    "    # Count the number of files\n",
    "    file_count = len(files)\n",
    "\n",
    "    return file_count\n",
    "\n",
    "# Example usage\n",
    "folder_path = r'D:\\Learning\\Face_verification\\head-position_estimation\\aligned_img\\feroz'\n",
    "num_files = count_files(folder_path)\n",
    "print(f\"Number of files in the folder: {num_files}\")\n"
   ]
  },
  {
   "cell_type": "code",
   "execution_count": null,
   "metadata": {},
   "outputs": [],
   "source": []
  },
  {
   "cell_type": "code",
   "execution_count": null,
   "metadata": {},
   "outputs": [],
   "source": []
  },
  {
   "cell_type": "code",
   "execution_count": 17,
   "metadata": {},
   "outputs": [
    {
     "name": "stdout",
     "output_type": "stream",
     "text": [
      "{'cod': '200', 'message': 0, 'cnt': 40, 'list': [{'dt': 1685988000, 'main': {'temp': 305.2, 'feels_like': 306.07, 'temp_min': 305.17, 'temp_max': 305.2, 'pressure': 1004, 'sea_level': 1004, 'grnd_level': 979, 'humidity': 43, 'temp_kf': 0.03}, 'weather': [{'id': 802, 'main': 'Clouds', 'description': 'scattered clouds', 'icon': '03n'}], 'clouds': {'all': 40}, 'wind': {'speed': 3.59, 'deg': 65, 'gust': 5.68}, 'visibility': 10000, 'pop': 0, 'sys': {'pod': 'n'}, 'dt_txt': '2023-06-05 18:00:00'}, {'dt': 1685998800, 'main': {'temp': 305.07, 'feels_like': 305.14, 'temp_min': 304.82, 'temp_max': 305.07, 'pressure': 1003, 'sea_level': 1003, 'grnd_level': 978, 'humidity': 39, 'temp_kf': 0.25}, 'weather': [{'id': 802, 'main': 'Clouds', 'description': 'scattered clouds', 'icon': '03n'}], 'clouds': {'all': 27}, 'wind': {'speed': 1.93, 'deg': 33, 'gust': 2.63}, 'visibility': 10000, 'pop': 0, 'sys': {'pod': 'n'}, 'dt_txt': '2023-06-05 21:00:00'}, {'dt': 1686009600, 'main': {'temp': 304.21, 'feels_like': 303.73, 'temp_min': 303.71, 'temp_max': 304.21, 'pressure': 1003, 'sea_level': 1003, 'grnd_level': 978, 'humidity': 37, 'temp_kf': 0.5}, 'weather': [{'id': 801, 'main': 'Clouds', 'description': 'few clouds', 'icon': '02d'}], 'clouds': {'all': 14}, 'wind': {'speed': 1.27, 'deg': 4, 'gust': 1.74}, 'visibility': 10000, 'pop': 0, 'sys': {'pod': 'd'}, 'dt_txt': '2023-06-06 00:00:00'}, {'dt': 1686020400, 'main': {'temp': 306.76, 'feels_like': 305.62, 'temp_min': 306.76, 'temp_max': 306.76, 'pressure': 1004, 'sea_level': 1004, 'grnd_level': 980, 'humidity': 28, 'temp_kf': 0}, 'weather': [{'id': 800, 'main': 'Clear', 'description': 'clear sky', 'icon': '01d'}], 'clouds': {'all': 4}, 'wind': {'speed': 2.04, 'deg': 315, 'gust': 2.82}, 'visibility': 10000, 'pop': 0, 'sys': {'pod': 'd'}, 'dt_txt': '2023-06-06 03:00:00'}, {'dt': 1686031200, 'main': {'temp': 311.55, 'feels_like': 310.11, 'temp_min': 311.55, 'temp_max': 311.55, 'pressure': 1004, 'sea_level': 1004, 'grnd_level': 980, 'humidity': 19, 'temp_kf': 0}, 'weather': [{'id': 800, 'main': 'Clear', 'description': 'clear sky', 'icon': '01d'}], 'clouds': {'all': 3}, 'wind': {'speed': 2.85, 'deg': 308, 'gust': 4.31}, 'visibility': 10000, 'pop': 0, 'sys': {'pod': 'd'}, 'dt_txt': '2023-06-06 06:00:00'}, {'dt': 1686042000, 'main': {'temp': 314.02, 'feels_like': 311.94, 'temp_min': 314.02, 'temp_max': 314.02, 'pressure': 1001, 'sea_level': 1001, 'grnd_level': 977, 'humidity': 14, 'temp_kf': 0}, 'weather': [{'id': 800, 'main': 'Clear', 'description': 'clear sky', 'icon': '01d'}], 'clouds': {'all': 1}, 'wind': {'speed': 3.16, 'deg': 314, 'gust': 5.39}, 'visibility': 10000, 'pop': 0, 'sys': {'pod': 'd'}, 'dt_txt': '2023-06-06 09:00:00'}, {'dt': 1686052800, 'main': {'temp': 314.27, 'feels_like': 311.97, 'temp_min': 314.27, 'temp_max': 314.27, 'pressure': 998, 'sea_level': 998, 'grnd_level': 975, 'humidity': 13, 'temp_kf': 0}, 'weather': [{'id': 801, 'main': 'Clouds', 'description': 'few clouds', 'icon': '02d'}], 'clouds': {'all': 11}, 'wind': {'speed': 4.96, 'deg': 301, 'gust': 6.45}, 'visibility': 10000, 'pop': 0, 'sys': {'pod': 'd'}, 'dt_txt': '2023-06-06 12:00:00'}, {'dt': 1686063600, 'main': {'temp': 309.39, 'feels_like': 307.47, 'temp_min': 309.39, 'temp_max': 309.39, 'pressure': 1000, 'sea_level': 1000, 'grnd_level': 976, 'humidity': 19, 'temp_kf': 0}, 'weather': [{'id': 802, 'main': 'Clouds', 'description': 'scattered clouds', 'icon': '03n'}], 'clouds': {'all': 48}, 'wind': {'speed': 4.48, 'deg': 299, 'gust': 8.8}, 'visibility': 10000, 'pop': 0, 'sys': {'pod': 'n'}, 'dt_txt': '2023-06-06 15:00:00'}, {'dt': 1686074400, 'main': {'temp': 306.46, 'feels_like': 305.39, 'temp_min': 306.46, 'temp_max': 306.46, 'pressure': 1002, 'sea_level': 1002, 'grnd_level': 978, 'humidity': 29, 'temp_kf': 0}, 'weather': [{'id': 802, 'main': 'Clouds', 'description': 'scattered clouds', 'icon': '03n'}], 'clouds': {'all': 36}, 'wind': {'speed': 4.27, 'deg': 333, 'gust': 9.88}, 'visibility': 10000, 'pop': 0, 'sys': {'pod': 'n'}, 'dt_txt': '2023-06-06 18:00:00'}, {'dt': 1686085200, 'main': {'temp': 304.8, 'feels_like': 303.92, 'temp_min': 304.8, 'temp_max': 304.8, 'pressure': 1002, 'sea_level': 1002, 'grnd_level': 978, 'humidity': 33, 'temp_kf': 0}, 'weather': [{'id': 802, 'main': 'Clouds', 'description': 'scattered clouds', 'icon': '03n'}], 'clouds': {'all': 32}, 'wind': {'speed': 2.15, 'deg': 7, 'gust': 3.5}, 'visibility': 10000, 'pop': 0, 'sys': {'pod': 'n'}, 'dt_txt': '2023-06-06 21:00:00'}, {'dt': 1686096000, 'main': {'temp': 304, 'feels_like': 303.35, 'temp_min': 304, 'temp_max': 304, 'pressure': 1002, 'sea_level': 1002, 'grnd_level': 978, 'humidity': 36, 'temp_kf': 0}, 'weather': [{'id': 801, 'main': 'Clouds', 'description': 'few clouds', 'icon': '02d'}], 'clouds': {'all': 19}, 'wind': {'speed': 2.14, 'deg': 35, 'gust': 4.01}, 'visibility': 10000, 'pop': 0.04, 'sys': {'pod': 'd'}, 'dt_txt': '2023-06-07 00:00:00'}, {'dt': 1686106800, 'main': {'temp': 307.37, 'feels_like': 306.08, 'temp_min': 307.37, 'temp_max': 307.37, 'pressure': 1004, 'sea_level': 1004, 'grnd_level': 980, 'humidity': 26, 'temp_kf': 0}, 'weather': [{'id': 800, 'main': 'Clear', 'description': 'clear sky', 'icon': '01d'}], 'clouds': {'all': 4}, 'wind': {'speed': 2.43, 'deg': 331, 'gust': 3.57}, 'visibility': 10000, 'pop': 0, 'sys': {'pod': 'd'}, 'dt_txt': '2023-06-07 03:00:00'}, {'dt': 1686117600, 'main': {'temp': 312.07, 'feels_like': 310.54, 'temp_min': 312.07, 'temp_max': 312.07, 'pressure': 1004, 'sea_level': 1004, 'grnd_level': 980, 'humidity': 18, 'temp_kf': 0}, 'weather': [{'id': 800, 'main': 'Clear', 'description': 'clear sky', 'icon': '01d'}], 'clouds': {'all': 3}, 'wind': {'speed': 2.22, 'deg': 288, 'gust': 2.54}, 'visibility': 10000, 'pop': 0, 'sys': {'pod': 'd'}, 'dt_txt': '2023-06-07 06:00:00'}, {'dt': 1686128400, 'main': {'temp': 314.59, 'feels_like': 312.62, 'temp_min': 314.59, 'temp_max': 314.59, 'pressure': 1001, 'sea_level': 1001, 'grnd_level': 977, 'humidity': 14, 'temp_kf': 0}, 'weather': [{'id': 800, 'main': 'Clear', 'description': 'clear sky', 'icon': '01d'}], 'clouds': {'all': 1}, 'wind': {'speed': 3.7, 'deg': 267, 'gust': 4.68}, 'visibility': 10000, 'pop': 0, 'sys': {'pod': 'd'}, 'dt_txt': '2023-06-07 09:00:00'}, {'dt': 1686139200, 'main': {'temp': 314.43, 'feels_like': 311.89, 'temp_min': 314.43, 'temp_max': 314.43, 'pressure': 999, 'sea_level': 999, 'grnd_level': 976, 'humidity': 12, 'temp_kf': 0}, 'weather': [{'id': 800, 'main': 'Clear', 'description': 'clear sky', 'icon': '01d'}], 'clouds': {'all': 7}, 'wind': {'speed': 5.63, 'deg': 276, 'gust': 5.2}, 'visibility': 10000, 'pop': 0, 'sys': {'pod': 'd'}, 'dt_txt': '2023-06-07 12:00:00'}, {'dt': 1686150000, 'main': {'temp': 312.15, 'feels_like': 309.99, 'temp_min': 312.15, 'temp_max': 312.15, 'pressure': 1001, 'sea_level': 1001, 'grnd_level': 977, 'humidity': 15, 'temp_kf': 0}, 'weather': [{'id': 800, 'main': 'Clear', 'description': 'clear sky', 'icon': '01n'}], 'clouds': {'all': 5}, 'wind': {'speed': 4.67, 'deg': 297, 'gust': 7.26}, 'visibility': 10000, 'pop': 0, 'sys': {'pod': 'n'}, 'dt_txt': '2023-06-07 15:00:00'}, {'dt': 1686160800, 'main': {'temp': 307.15, 'feels_like': 305.67, 'temp_min': 307.15, 'temp_max': 307.15, 'pressure': 1002, 'sea_level': 1002, 'grnd_level': 978, 'humidity': 25, 'temp_kf': 0}, 'weather': [{'id': 800, 'main': 'Clear', 'description': 'clear sky', 'icon': '01n'}], 'clouds': {'all': 3}, 'wind': {'speed': 5.17, 'deg': 9, 'gust': 11.54}, 'visibility': 10000, 'pop': 0, 'sys': {'pod': 'n'}, 'dt_txt': '2023-06-07 18:00:00'}, {'dt': 1686171600, 'main': {'temp': 306.59, 'feels_like': 304.91, 'temp_min': 306.59, 'temp_max': 306.59, 'pressure': 1001, 'sea_level': 1001, 'grnd_level': 977, 'humidity': 24, 'temp_kf': 0}, 'weather': [{'id': 800, 'main': 'Clear', 'description': 'clear sky', 'icon': '01n'}], 'clouds': {'all': 3}, 'wind': {'speed': 1.53, 'deg': 342, 'gust': 2.84}, 'visibility': 10000, 'pop': 0, 'sys': {'pod': 'n'}, 'dt_txt': '2023-06-07 21:00:00'}, {'dt': 1686182400, 'main': {'temp': 305.56, 'feels_like': 304.09, 'temp_min': 305.56, 'temp_max': 305.56, 'pressure': 1003, 'sea_level': 1003, 'grnd_level': 978, 'humidity': 27, 'temp_kf': 0}, 'weather': [{'id': 800, 'main': 'Clear', 'description': 'clear sky', 'icon': '01d'}], 'clouds': {'all': 4}, 'wind': {'speed': 2.41, 'deg': 310, 'gust': 4.42}, 'visibility': 10000, 'pop': 0, 'sys': {'pod': 'd'}, 'dt_txt': '2023-06-08 00:00:00'}, {'dt': 1686193200, 'main': {'temp': 308.72, 'feels_like': 307.28, 'temp_min': 308.72, 'temp_max': 308.72, 'pressure': 1004, 'sea_level': 1004, 'grnd_level': 980, 'humidity': 23, 'temp_kf': 0}, 'weather': [{'id': 800, 'main': 'Clear', 'description': 'clear sky', 'icon': '01d'}], 'clouds': {'all': 0}, 'wind': {'speed': 3.18, 'deg': 302, 'gust': 5.09}, 'visibility': 10000, 'pop': 0, 'sys': {'pod': 'd'}, 'dt_txt': '2023-06-08 03:00:00'}, {'dt': 1686204000, 'main': {'temp': 313.39, 'feels_like': 311.97, 'temp_min': 313.39, 'temp_max': 313.39, 'pressure': 1003, 'sea_level': 1003, 'grnd_level': 980, 'humidity': 17, 'temp_kf': 0}, 'weather': [{'id': 800, 'main': 'Clear', 'description': 'clear sky', 'icon': '01d'}], 'clouds': {'all': 0}, 'wind': {'speed': 4.11, 'deg': 311, 'gust': 6.35}, 'visibility': 10000, 'pop': 0, 'sys': {'pod': 'd'}, 'dt_txt': '2023-06-08 06:00:00'}, {'dt': 1686214800, 'main': {'temp': 315.81, 'feels_like': 313.76, 'temp_min': 315.81, 'temp_max': 315.81, 'pressure': 1000, 'sea_level': 1000, 'grnd_level': 977, 'humidity': 13, 'temp_kf': 0}, 'weather': [{'id': 800, 'main': 'Clear', 'description': 'clear sky', 'icon': '01d'}], 'clouds': {'all': 1}, 'wind': {'speed': 4.68, 'deg': 311, 'gust': 6.74}, 'visibility': 10000, 'pop': 0, 'sys': {'pod': 'd'}, 'dt_txt': '2023-06-08 09:00:00'}, {'dt': 1686225600, 'main': {'temp': 315.47, 'feels_like': 313.35, 'temp_min': 315.47, 'temp_max': 315.47, 'pressure': 998, 'sea_level': 998, 'grnd_level': 974, 'humidity': 13, 'temp_kf': 0}, 'weather': [{'id': 801, 'main': 'Clouds', 'description': 'few clouds', 'icon': '02d'}], 'clouds': {'all': 14}, 'wind': {'speed': 5.83, 'deg': 304, 'gust': 6.81}, 'visibility': 10000, 'pop': 0, 'sys': {'pod': 'd'}, 'dt_txt': '2023-06-08 12:00:00'}, {'dt': 1686236400, 'main': {'temp': 313.07, 'feels_like': 311.31, 'temp_min': 313.07, 'temp_max': 313.07, 'pressure': 999, 'sea_level': 999, 'grnd_level': 975, 'humidity': 16, 'temp_kf': 0}, 'weather': [{'id': 801, 'main': 'Clouds', 'description': 'few clouds', 'icon': '02n'}], 'clouds': {'all': 12}, 'wind': {'speed': 5.73, 'deg': 293, 'gust': 8.14}, 'visibility': 10000, 'pop': 0, 'sys': {'pod': 'n'}, 'dt_txt': '2023-06-08 15:00:00'}, {'dt': 1686247200, 'main': {'temp': 306.67, 'feels_like': 305.65, 'temp_min': 306.67, 'temp_max': 306.67, 'pressure': 1000, 'sea_level': 1000, 'grnd_level': 976, 'humidity': 29, 'temp_kf': 0}, 'weather': [{'id': 802, 'main': 'Clouds', 'description': 'scattered clouds', 'icon': '03n'}], 'clouds': {'all': 46}, 'wind': {'speed': 5.53, 'deg': 288, 'gust': 8.95}, 'visibility': 10000, 'pop': 0, 'sys': {'pod': 'n'}, 'dt_txt': '2023-06-08 18:00:00'}, {'dt': 1686258000, 'main': {'temp': 305.97, 'feels_like': 305.22, 'temp_min': 305.97, 'temp_max': 305.97, 'pressure': 999, 'sea_level': 999, 'grnd_level': 975, 'humidity': 32, 'temp_kf': 0}, 'weather': [{'id': 800, 'main': 'Clear', 'description': 'clear sky', 'icon': '01n'}], 'clouds': {'all': 6}, 'wind': {'speed': 3.27, 'deg': 320, 'gust': 7.21}, 'visibility': 10000, 'pop': 0, 'sys': {'pod': 'n'}, 'dt_txt': '2023-06-08 21:00:00'}, {'dt': 1686268800, 'main': {'temp': 305.38, 'feels_like': 304.76, 'temp_min': 305.38, 'temp_max': 305.38, 'pressure': 1000, 'sea_level': 1000, 'grnd_level': 976, 'humidity': 34, 'temp_kf': 0}, 'weather': [{'id': 800, 'main': 'Clear', 'description': 'clear sky', 'icon': '01d'}], 'clouds': {'all': 4}, 'wind': {'speed': 2.92, 'deg': 316, 'gust': 5.14}, 'visibility': 10000, 'pop': 0, 'sys': {'pod': 'd'}, 'dt_txt': '2023-06-09 00:00:00'}, {'dt': 1686279600, 'main': {'temp': 308.19, 'feels_like': 307.48, 'temp_min': 308.19, 'temp_max': 308.19, 'pressure': 1002, 'sea_level': 1002, 'grnd_level': 978, 'humidity': 28, 'temp_kf': 0}, 'weather': [{'id': 800, 'main': 'Clear', 'description': 'clear sky', 'icon': '01d'}], 'clouds': {'all': 0}, 'wind': {'speed': 3.92, 'deg': 288, 'gust': 6.2}, 'visibility': 10000, 'pop': 0, 'sys': {'pod': 'd'}, 'dt_txt': '2023-06-09 03:00:00'}, {'dt': 1686290400, 'main': {'temp': 312.95, 'feels_like': 312.55, 'temp_min': 312.95, 'temp_max': 312.95, 'pressure': 1001, 'sea_level': 1001, 'grnd_level': 977, 'humidity': 21, 'temp_kf': 0}, 'weather': [{'id': 800, 'main': 'Clear', 'description': 'clear sky', 'icon': '01d'}], 'clouds': {'all': 0}, 'wind': {'speed': 4.81, 'deg': 281, 'gust': 6.68}, 'visibility': 10000, 'pop': 0, 'sys': {'pod': 'd'}, 'dt_txt': '2023-06-09 06:00:00'}, {'dt': 1686301200, 'main': {'temp': 316.07, 'feels_like': 314.8, 'temp_min': 316.07, 'temp_max': 316.07, 'pressure': 998, 'sea_level': 998, 'grnd_level': 974, 'humidity': 15, 'temp_kf': 0}, 'weather': [{'id': 800, 'main': 'Clear', 'description': 'clear sky', 'icon': '01d'}], 'clouds': {'all': 1}, 'wind': {'speed': 6.04, 'deg': 294, 'gust': 6.83}, 'visibility': 10000, 'pop': 0, 'sys': {'pod': 'd'}, 'dt_txt': '2023-06-09 09:00:00'}, {'dt': 1686312000, 'main': {'temp': 316.18, 'feels_like': 314.56, 'temp_min': 316.18, 'temp_max': 316.18, 'pressure': 996, 'sea_level': 996, 'grnd_level': 973, 'humidity': 14, 'temp_kf': 0}, 'weather': [{'id': 800, 'main': 'Clear', 'description': 'clear sky', 'icon': '01d'}], 'clouds': {'all': 6}, 'wind': {'speed': 6.47, 'deg': 300, 'gust': 7.6}, 'visibility': 10000, 'pop': 0, 'sys': {'pod': 'd'}, 'dt_txt': '2023-06-09 12:00:00'}, {'dt': 1686322800, 'main': {'temp': 313.81, 'feels_like': 312.82, 'temp_min': 313.81, 'temp_max': 313.81, 'pressure': 997, 'sea_level': 997, 'grnd_level': 973, 'humidity': 18, 'temp_kf': 0}, 'weather': [{'id': 800, 'main': 'Clear', 'description': 'clear sky', 'icon': '01n'}], 'clouds': {'all': 10}, 'wind': {'speed': 6.45, 'deg': 291, 'gust': 9.49}, 'visibility': 10000, 'pop': 0, 'sys': {'pod': 'n'}, 'dt_txt': '2023-06-09 15:00:00'}, {'dt': 1686333600, 'main': {'temp': 308.91, 'feels_like': 308.07, 'temp_min': 308.91, 'temp_max': 308.91, 'pressure': 997, 'sea_level': 997, 'grnd_level': 973, 'humidity': 26, 'temp_kf': 0}, 'weather': [{'id': 801, 'main': 'Clouds', 'description': 'few clouds', 'icon': '02n'}], 'clouds': {'all': 15}, 'wind': {'speed': 5.18, 'deg': 307, 'gust': 12.36}, 'visibility': 10000, 'pop': 0.01, 'sys': {'pod': 'n'}, 'dt_txt': '2023-06-09 18:00:00'}, {'dt': 1686344400, 'main': {'temp': 309.04, 'feels_like': 307.86, 'temp_min': 309.04, 'temp_max': 309.04, 'pressure': 996, 'sea_level': 996, 'grnd_level': 972, 'humidity': 24, 'temp_kf': 0}, 'weather': [{'id': 800, 'main': 'Clear', 'description': 'clear sky', 'icon': '01n'}], 'clouds': {'all': 3}, 'wind': {'speed': 3.07, 'deg': 279, 'gust': 9.36}, 'visibility': 10000, 'pop': 0, 'sys': {'pod': 'n'}, 'dt_txt': '2023-06-09 21:00:00'}, {'dt': 1686355200, 'main': {'temp': 308.09, 'feels_like': 306.82, 'temp_min': 308.09, 'temp_max': 308.09, 'pressure': 997, 'sea_level': 997, 'grnd_level': 973, 'humidity': 25, 'temp_kf': 0}, 'weather': [{'id': 800, 'main': 'Clear', 'description': 'clear sky', 'icon': '01d'}], 'clouds': {'all': 1}, 'wind': {'speed': 4.23, 'deg': 272, 'gust': 11.37}, 'visibility': 10000, 'pop': 0.01, 'sys': {'pod': 'd'}, 'dt_txt': '2023-06-10 00:00:00'}, {'dt': 1686366000, 'main': {'temp': 310.89, 'feels_like': 310.66, 'temp_min': 310.89, 'temp_max': 310.89, 'pressure': 999, 'sea_level': 999, 'grnd_level': 975, 'humidity': 25, 'temp_kf': 0}, 'weather': [{'id': 800, 'main': 'Clear', 'description': 'clear sky', 'icon': '01d'}], 'clouds': {'all': 0}, 'wind': {'speed': 6.92, 'deg': 284, 'gust': 10.86}, 'visibility': 10000, 'pop': 0, 'sys': {'pod': 'd'}, 'dt_txt': '2023-06-10 03:00:00'}, {'dt': 1686376800, 'main': {'temp': 314.82, 'feels_like': 315.38, 'temp_min': 314.82, 'temp_max': 314.82, 'pressure': 999, 'sea_level': 999, 'grnd_level': 975, 'humidity': 21, 'temp_kf': 0}, 'weather': [{'id': 800, 'main': 'Clear', 'description': 'clear sky', 'icon': '01d'}], 'clouds': {'all': 1}, 'wind': {'speed': 6.43, 'deg': 287, 'gust': 7.2}, 'visibility': 10000, 'pop': 0, 'sys': {'pod': 'd'}, 'dt_txt': '2023-06-10 06:00:00'}, {'dt': 1686387600, 'main': {'temp': 317.07, 'feels_like': 316.58, 'temp_min': 317.07, 'temp_max': 317.07, 'pressure': 996, 'sea_level': 996, 'grnd_level': 973, 'humidity': 16, 'temp_kf': 0}, 'weather': [{'id': 800, 'main': 'Clear', 'description': 'clear sky', 'icon': '01d'}], 'clouds': {'all': 1}, 'wind': {'speed': 6.26, 'deg': 285, 'gust': 6.26}, 'visibility': 10000, 'pop': 0, 'sys': {'pod': 'd'}, 'dt_txt': '2023-06-10 09:00:00'}, {'dt': 1686398400, 'main': {'temp': 316.61, 'feels_like': 315.51, 'temp_min': 316.61, 'temp_max': 316.61, 'pressure': 995, 'sea_level': 995, 'grnd_level': 971, 'humidity': 15, 'temp_kf': 0}, 'weather': [{'id': 800, 'main': 'Clear', 'description': 'clear sky', 'icon': '01d'}], 'clouds': {'all': 2}, 'wind': {'speed': 6.98, 'deg': 288, 'gust': 7.1}, 'visibility': 10000, 'pop': 0, 'sys': {'pod': 'd'}, 'dt_txt': '2023-06-10 12:00:00'}, {'dt': 1686409200, 'main': {'temp': 314.45, 'feels_like': 313.05, 'temp_min': 314.45, 'temp_max': 314.45, 'pressure': 996, 'sea_level': 996, 'grnd_level': 972, 'humidity': 16, 'temp_kf': 0}, 'weather': [{'id': 800, 'main': 'Clear', 'description': 'clear sky', 'icon': '01n'}], 'clouds': {'all': 0}, 'wind': {'speed': 5.51, 'deg': 284, 'gust': 8.38}, 'visibility': 10000, 'pop': 0.02, 'sys': {'pod': 'n'}, 'dt_txt': '2023-06-10 15:00:00'}], 'city': {'id': 1273294, 'name': 'Delhi', 'coord': {'lat': 28.6667, 'lon': 77.2167}, 'country': 'IN', 'population': 10927986, 'timezone': 19800, 'sunrise': 1685922788, 'sunset': 1685972773}}\n"
     ]
    }
   ],
   "source": [
    "import requests\n",
    "\n",
    "API_KEY = \"209dbb199c08119fab9bc60000d5c9d0\"\n",
    "\n",
    "city_name = \"Chennai\"\n",
    "\n",
    "url = \"http://api.openweathermap.org/data/2.5/forecast?appid=209dbb199c08119fab9bc60000d5c9d0&q=Delhi\"\n",
    "\n",
    "response = requests.get(url)\n",
    "\n",
    "weather_data = response.json()\n",
    "\n",
    "print(weather_data)\n",
    "\n"
   ]
  },
  {
   "cell_type": "code",
   "execution_count": null,
   "metadata": {},
   "outputs": [],
   "source": []
  }
 ],
 "metadata": {
  "kernelspec": {
   "display_name": "Python 3",
   "language": "python",
   "name": "python3"
  },
  "language_info": {
   "codemirror_mode": {
    "name": "ipython",
    "version": 3
   },
   "file_extension": ".py",
   "mimetype": "text/x-python",
   "name": "python",
   "nbconvert_exporter": "python",
   "pygments_lexer": "ipython3",
   "version": "3.10.10"
  },
  "orig_nbformat": 4
 },
 "nbformat": 4,
 "nbformat_minor": 2
}
